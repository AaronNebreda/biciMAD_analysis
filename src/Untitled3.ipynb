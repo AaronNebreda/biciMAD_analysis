{
 "cells": [
  {
   "cell_type": "code",
   "execution_count": 1,
   "id": "2010eb6b",
   "metadata": {},
   "outputs": [],
   "source": [
    "import pandas as pd\n",
    "import numpy as np\n",
    "from funciones import *\n",
    "import geopandas as gpd\n",
    "import matplotlib.pyplot as plt\n",
    "import datetime as dt"
   ]
  },
  {
   "cell_type": "code",
   "execution_count": 7,
   "id": "2b306bca",
   "metadata": {},
   "outputs": [],
   "source": [
    "bar_est = pd.read_csv(r'../data/bar_est.csv')\n",
    "est_centro = bar_est[bar_est.NOMDIS == 'Centro']\n",
    "\n",
    "l_esta = list(est_centro['id'])"
   ]
  },
  {
   "cell_type": "code",
   "execution_count": 19,
   "id": "a8f1535d",
   "metadata": {},
   "outputs": [
    {
     "data": {
      "text/plain": [
       "Index(['id', 'number', 'name', 'longitude', 'latitude', 'address',\n",
       "       'total_bases', 'geometry', 'index_right', 'CODDIS', 'NOMDIS', 'COD_BAR',\n",
       "       'NOMBRE', 'n_salidas', 'n_salidas_AVG', 'n_entradas', 'n_entradas_AVG',\n",
       "       'ratio1', 'dif', 'ratio2', 'ratioAVG', 'mov_TOT', 'mov_TOT_AVG'],\n",
       "      dtype='object')"
      ]
     },
     "execution_count": 19,
     "metadata": {},
     "output_type": "execute_result"
    }
   ],
   "source": [
    "bar_est.columns"
   ]
  },
  {
   "cell_type": "code",
   "execution_count": 20,
   "id": "a48b0308",
   "metadata": {},
   "outputs": [
    {
     "data": {
      "text/html": [
       "<div>\n",
       "<style scoped>\n",
       "    .dataframe tbody tr th:only-of-type {\n",
       "        vertical-align: middle;\n",
       "    }\n",
       "\n",
       "    .dataframe tbody tr th {\n",
       "        vertical-align: top;\n",
       "    }\n",
       "\n",
       "    .dataframe thead th {\n",
       "        text-align: right;\n",
       "    }\n",
       "</style>\n",
       "<table border=\"1\" class=\"dataframe\">\n",
       "  <thead>\n",
       "    <tr style=\"text-align: right;\">\n",
       "      <th></th>\n",
       "      <th>id</th>\n",
       "      <th>name</th>\n",
       "      <th>CODDIS</th>\n",
       "      <th>NOMDIS</th>\n",
       "      <th>COD_BAR</th>\n",
       "      <th>NOMBRE</th>\n",
       "    </tr>\n",
       "  </thead>\n",
       "  <tbody>\n",
       "    <tr>\n",
       "      <th>0</th>\n",
       "      <td>1</td>\n",
       "      <td>Puerta del Sol A</td>\n",
       "      <td>1</td>\n",
       "      <td>Centro</td>\n",
       "      <td>16</td>\n",
       "      <td>Sol</td>\n",
       "    </tr>\n",
       "    <tr>\n",
       "      <th>1</th>\n",
       "      <td>2</td>\n",
       "      <td>Puerta del Sol B</td>\n",
       "      <td>1</td>\n",
       "      <td>Centro</td>\n",
       "      <td>16</td>\n",
       "      <td>Sol</td>\n",
       "    </tr>\n",
       "    <tr>\n",
       "      <th>2</th>\n",
       "      <td>3</td>\n",
       "      <td>Miguel Moya</td>\n",
       "      <td>1</td>\n",
       "      <td>Centro</td>\n",
       "      <td>15</td>\n",
       "      <td>Universidad</td>\n",
       "    </tr>\n",
       "    <tr>\n",
       "      <th>3</th>\n",
       "      <td>4</td>\n",
       "      <td>Plaza Conde Suchil</td>\n",
       "      <td>7</td>\n",
       "      <td>Chamberí</td>\n",
       "      <td>72</td>\n",
       "      <td>Arapiles</td>\n",
       "    </tr>\n",
       "    <tr>\n",
       "      <th>4</th>\n",
       "      <td>5</td>\n",
       "      <td>Malasaña</td>\n",
       "      <td>1</td>\n",
       "      <td>Centro</td>\n",
       "      <td>15</td>\n",
       "      <td>Universidad</td>\n",
       "    </tr>\n",
       "    <tr>\n",
       "      <th>...</th>\n",
       "      <td>...</td>\n",
       "      <td>...</td>\n",
       "      <td>...</td>\n",
       "      <td>...</td>\n",
       "      <td>...</td>\n",
       "      <td>...</td>\n",
       "    </tr>\n",
       "    <tr>\n",
       "      <th>261</th>\n",
       "      <td>266</td>\n",
       "      <td>Ciudad Universitaria 1</td>\n",
       "      <td>9</td>\n",
       "      <td>Moncloa - Aravaca</td>\n",
       "      <td>93</td>\n",
       "      <td>Ciudad Universitaria</td>\n",
       "    </tr>\n",
       "    <tr>\n",
       "      <th>262</th>\n",
       "      <td>267</td>\n",
       "      <td>Ciudad Universitaria 2</td>\n",
       "      <td>9</td>\n",
       "      <td>Moncloa - Aravaca</td>\n",
       "      <td>93</td>\n",
       "      <td>Ciudad Universitaria</td>\n",
       "    </tr>\n",
       "    <tr>\n",
       "      <th>263</th>\n",
       "      <td>268</td>\n",
       "      <td>Facultad Biología</td>\n",
       "      <td>9</td>\n",
       "      <td>Moncloa - Aravaca</td>\n",
       "      <td>93</td>\n",
       "      <td>Ciudad Universitaria</td>\n",
       "    </tr>\n",
       "    <tr>\n",
       "      <th>264</th>\n",
       "      <td>269</td>\n",
       "      <td>Facultad Derecho</td>\n",
       "      <td>9</td>\n",
       "      <td>Moncloa - Aravaca</td>\n",
       "      <td>93</td>\n",
       "      <td>Ciudad Universitaria</td>\n",
       "    </tr>\n",
       "    <tr>\n",
       "      <th>265</th>\n",
       "      <td>270</td>\n",
       "      <td>Zurbano</td>\n",
       "      <td>7</td>\n",
       "      <td>Chamberí</td>\n",
       "      <td>75</td>\n",
       "      <td>Ríos Rosas</td>\n",
       "    </tr>\n",
       "  </tbody>\n",
       "</table>\n",
       "<p>266 rows × 6 columns</p>\n",
       "</div>"
      ],
      "text/plain": [
       "      id                    name  CODDIS             NOMDIS  COD_BAR  \\\n",
       "0      1        Puerta del Sol A       1             Centro       16   \n",
       "1      2        Puerta del Sol B       1             Centro       16   \n",
       "2      3             Miguel Moya       1             Centro       15   \n",
       "3      4      Plaza Conde Suchil       7           Chamberí       72   \n",
       "4      5                Malasaña       1             Centro       15   \n",
       "..   ...                     ...     ...                ...      ...   \n",
       "261  266  Ciudad Universitaria 1       9  Moncloa - Aravaca       93   \n",
       "262  267  Ciudad Universitaria 2       9  Moncloa - Aravaca       93   \n",
       "263  268       Facultad Biología       9  Moncloa - Aravaca       93   \n",
       "264  269        Facultad Derecho       9  Moncloa - Aravaca       93   \n",
       "265  270                 Zurbano       7           Chamberí       75   \n",
       "\n",
       "                   NOMBRE  \n",
       "0                     Sol  \n",
       "1                     Sol  \n",
       "2             Universidad  \n",
       "3                Arapiles  \n",
       "4             Universidad  \n",
       "..                    ...  \n",
       "261  Ciudad Universitaria  \n",
       "262  Ciudad Universitaria  \n",
       "263  Ciudad Universitaria  \n",
       "264  Ciudad Universitaria  \n",
       "265            Ríos Rosas  \n",
       "\n",
       "[266 rows x 6 columns]"
      ]
     },
     "execution_count": 20,
     "metadata": {},
     "output_type": "execute_result"
    }
   ],
   "source": [
    "bar_est[['id','name','CODDIS', 'NOMDIS', 'COD_BAR','NOMBRE']]"
   ]
  },
  {
   "cell_type": "code",
   "execution_count": 25,
   "id": "1b36153a",
   "metadata": {},
   "outputs": [],
   "source": [
    "c2_iti_esta = c2_iti_esta.join(bar_est[['id','name','CODDIS', 'NOMDIS', 'COD_BAR','NOMBRE']].set_index('id'), on='id_est').reset_index()"
   ]
  },
  {
   "cell_type": "code",
   "execution_count": 8,
   "id": "54c3d187",
   "metadata": {},
   "outputs": [
    {
     "data": {
      "text/plain": [
       "[1,\n",
       " 2,\n",
       " 3,\n",
       " 5,\n",
       " 6,\n",
       " 7,\n",
       " 8,\n",
       " 10,\n",
       " 11,\n",
       " 12,\n",
       " 13,\n",
       " 14,\n",
       " 16,\n",
       " 17,\n",
       " 18,\n",
       " 19,\n",
       " 20,\n",
       " 21,\n",
       " 23,\n",
       " 24,\n",
       " 25,\n",
       " 26,\n",
       " 27,\n",
       " 28,\n",
       " 29,\n",
       " 30,\n",
       " 31,\n",
       " 32,\n",
       " 33,\n",
       " 34,\n",
       " 35,\n",
       " 36,\n",
       " 37,\n",
       " 38,\n",
       " 39,\n",
       " 40,\n",
       " 41,\n",
       " 42,\n",
       " 43,\n",
       " 44,\n",
       " 45,\n",
       " 46,\n",
       " 47,\n",
       " 48,\n",
       " 49,\n",
       " 52,\n",
       " 53,\n",
       " 54,\n",
       " 55,\n",
       " 56,\n",
       " 57,\n",
       " 58,\n",
       " 59,\n",
       " 60,\n",
       " 61,\n",
       " 62,\n",
       " 63,\n",
       " 71,\n",
       " 91,\n",
       " 174,\n",
       " 218,\n",
       " 219]"
      ]
     },
     "execution_count": 8,
     "metadata": {},
     "output_type": "execute_result"
    }
   ],
   "source": [
    "l_esta"
   ]
  },
  {
   "cell_type": "code",
   "execution_count": 10,
   "id": "3d1a6582",
   "metadata": {},
   "outputs": [],
   "source": [
    "c2_iti_esta = pd.read_csv(r'..\\data\\c2_iti_esta.csv') "
   ]
  },
  {
   "cell_type": "code",
   "execution_count": 11,
   "id": "b9589b38",
   "metadata": {},
   "outputs": [
    {
     "data": {
      "text/html": [
       "<div>\n",
       "<style scoped>\n",
       "    .dataframe tbody tr th:only-of-type {\n",
       "        vertical-align: middle;\n",
       "    }\n",
       "\n",
       "    .dataframe tbody tr th {\n",
       "        vertical-align: top;\n",
       "    }\n",
       "\n",
       "    .dataframe thead th {\n",
       "        text-align: right;\n",
       "    }\n",
       "</style>\n",
       "<table border=\"1\" class=\"dataframe\">\n",
       "  <thead>\n",
       "    <tr style=\"text-align: right;\">\n",
       "      <th></th>\n",
       "      <th>dia_mes_año</th>\n",
       "      <th>mes_año</th>\n",
       "      <th>año</th>\n",
       "      <th>mes</th>\n",
       "      <th>dia</th>\n",
       "      <th>weekend</th>\n",
       "      <th>id_est</th>\n",
       "      <th>hora</th>\n",
       "      <th>n_salidas</th>\n",
       "      <th>T_medio_sal</th>\n",
       "      <th>n_entradas</th>\n",
       "      <th>T_medio_ent</th>\n",
       "    </tr>\n",
       "  </thead>\n",
       "  <tbody>\n",
       "    <tr>\n",
       "      <th>0</th>\n",
       "      <td>2020-07-01</td>\n",
       "      <td>2020-07</td>\n",
       "      <td>2020</td>\n",
       "      <td>7</td>\n",
       "      <td>Wednesday</td>\n",
       "      <td>0</td>\n",
       "      <td>1</td>\n",
       "      <td>0</td>\n",
       "      <td>0.0</td>\n",
       "      <td>NaN</td>\n",
       "      <td>0.0</td>\n",
       "      <td>NaN</td>\n",
       "    </tr>\n",
       "    <tr>\n",
       "      <th>1</th>\n",
       "      <td>2020-07-01</td>\n",
       "      <td>2020-07</td>\n",
       "      <td>2020</td>\n",
       "      <td>7</td>\n",
       "      <td>Wednesday</td>\n",
       "      <td>0</td>\n",
       "      <td>1</td>\n",
       "      <td>1</td>\n",
       "      <td>2.0</td>\n",
       "      <td>9.0</td>\n",
       "      <td>0.0</td>\n",
       "      <td>NaN</td>\n",
       "    </tr>\n",
       "    <tr>\n",
       "      <th>2</th>\n",
       "      <td>2020-07-01</td>\n",
       "      <td>2020-07</td>\n",
       "      <td>2020</td>\n",
       "      <td>7</td>\n",
       "      <td>Wednesday</td>\n",
       "      <td>0</td>\n",
       "      <td>1</td>\n",
       "      <td>2</td>\n",
       "      <td>0.0</td>\n",
       "      <td>NaN</td>\n",
       "      <td>0.0</td>\n",
       "      <td>NaN</td>\n",
       "    </tr>\n",
       "    <tr>\n",
       "      <th>3</th>\n",
       "      <td>2020-07-01</td>\n",
       "      <td>2020-07</td>\n",
       "      <td>2020</td>\n",
       "      <td>7</td>\n",
       "      <td>Wednesday</td>\n",
       "      <td>0</td>\n",
       "      <td>1</td>\n",
       "      <td>3</td>\n",
       "      <td>0.0</td>\n",
       "      <td>NaN</td>\n",
       "      <td>0.0</td>\n",
       "      <td>NaN</td>\n",
       "    </tr>\n",
       "    <tr>\n",
       "      <th>4</th>\n",
       "      <td>2020-07-01</td>\n",
       "      <td>2020-07</td>\n",
       "      <td>2020</td>\n",
       "      <td>7</td>\n",
       "      <td>Wednesday</td>\n",
       "      <td>0</td>\n",
       "      <td>1</td>\n",
       "      <td>4</td>\n",
       "      <td>0.0</td>\n",
       "      <td>NaN</td>\n",
       "      <td>0.0</td>\n",
       "      <td>NaN</td>\n",
       "    </tr>\n",
       "  </tbody>\n",
       "</table>\n",
       "</div>"
      ],
      "text/plain": [
       "  dia_mes_año  mes_año   año  mes        dia  weekend  id_est  hora  \\\n",
       "0  2020-07-01  2020-07  2020    7  Wednesday        0       1     0   \n",
       "1  2020-07-01  2020-07  2020    7  Wednesday        0       1     1   \n",
       "2  2020-07-01  2020-07  2020    7  Wednesday        0       1     2   \n",
       "3  2020-07-01  2020-07  2020    7  Wednesday        0       1     3   \n",
       "4  2020-07-01  2020-07  2020    7  Wednesday        0       1     4   \n",
       "\n",
       "   n_salidas  T_medio_sal  n_entradas  T_medio_ent  \n",
       "0        0.0          NaN         0.0          NaN  \n",
       "1        2.0          9.0         0.0          NaN  \n",
       "2        0.0          NaN         0.0          NaN  \n",
       "3        0.0          NaN         0.0          NaN  \n",
       "4        0.0          NaN         0.0          NaN  "
      ]
     },
     "execution_count": 11,
     "metadata": {},
     "output_type": "execute_result"
    }
   ],
   "source": [
    "c2_iti_esta.head()"
   ]
  },
  {
   "cell_type": "code",
   "execution_count": 16,
   "id": "bae314f7",
   "metadata": {},
   "outputs": [],
   "source": [
    "esta_centro = c2_iti_esta[(c2_iti_esta.mes == 7) & (c2_iti_esta.id_est.isin(l_esta))]"
   ]
  },
  {
   "cell_type": "code",
   "execution_count": 17,
   "id": "0f829437",
   "metadata": {},
   "outputs": [],
   "source": [
    "esta_centro.to_csv(r'..\\data\\esta_centro.csv', index=False)"
   ]
  },
  {
   "cell_type": "code",
   "execution_count": 26,
   "id": "2728adbd",
   "metadata": {},
   "outputs": [],
   "source": [
    "c2_iti_esta.to_csv(r'..\\data\\c2_iti_esta2.csv', index=False)"
   ]
  },
  {
   "cell_type": "code",
   "execution_count": 30,
   "id": "a477f097",
   "metadata": {},
   "outputs": [
    {
     "data": {
      "text/plain": [
       "(44640, 18)"
      ]
     },
     "execution_count": 30,
     "metadata": {},
     "output_type": "execute_result"
    }
   ],
   "source": [
    "c2_iti_esta[(c2_iti_esta.CODDIS == 1) & (c2_iti_esta.mes == 7)].shape"
   ]
  },
  {
   "cell_type": "code",
   "execution_count": 31,
   "id": "bf34d2cd",
   "metadata": {},
   "outputs": [
    {
     "data": {
      "text/plain": [
       "(44640, 12)"
      ]
     },
     "execution_count": 31,
     "metadata": {},
     "output_type": "execute_result"
    }
   ],
   "source": [
    "esta_centro.shape "
   ]
  },
  {
   "cell_type": "code",
   "execution_count": 33,
   "id": "3eb6450f",
   "metadata": {},
   "outputs": [
    {
     "data": {
      "text/plain": [
       "3696359.0"
      ]
     },
     "execution_count": 33,
     "metadata": {},
     "output_type": "execute_result"
    }
   ],
   "source": [
    "c2_iti_esta.n_salidas.sum()"
   ]
  },
  {
   "cell_type": "code",
   "execution_count": null,
   "id": "08e7654a",
   "metadata": {},
   "outputs": [],
   "source": []
  }
 ],
 "metadata": {
  "kernelspec": {
   "display_name": "Python 3 (ipykernel)",
   "language": "python",
   "name": "python3"
  },
  "language_info": {
   "codemirror_mode": {
    "name": "ipython",
    "version": 3
   },
   "file_extension": ".py",
   "mimetype": "text/x-python",
   "name": "python",
   "nbconvert_exporter": "python",
   "pygments_lexer": "ipython3",
   "version": "3.9.12"
  }
 },
 "nbformat": 4,
 "nbformat_minor": 5
}
