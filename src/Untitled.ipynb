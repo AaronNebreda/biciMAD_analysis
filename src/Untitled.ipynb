{
 "cells": [
  {
   "cell_type": "code",
   "execution_count": 2,
   "id": "a3e7020d",
   "metadata": {},
   "outputs": [],
   "source": [
    "import pandas as pd\n",
    "import numpy as np\n",
    "from funciones import *\n",
    "import geopandas as gpd\n",
    "import matplotlib.pyplot as plt"
   ]
  },
  {
   "cell_type": "code",
   "execution_count": 3,
   "id": "e7adfa2b",
   "metadata": {},
   "outputs": [],
   "source": [
    "pd.set_option('display.max_columns', None)   # mostrar todas las columnas del df\n",
    "pd.set_option('display.max_rows', None)   # mostrar todas las filas del df"
   ]
  },
  {
   "cell_type": "markdown",
   "id": "f4b89f0a",
   "metadata": {},
   "source": [
    "## CARGA DE INFORMACiÓN"
   ]
  },
  {
   "cell_type": "code",
   "execution_count": null,
   "id": "2ae761bf",
   "metadata": {},
   "outputs": [],
   "source": [
    "'''\n",
    "la inforamción que se ha descargado de la web del portal de datos de Madrid corresponde a dos tipos de datos diferentes.\n",
    "\n",
    "Por un lado tenemos la situación de las estaciones por hora\n",
    "\n",
    "Y por otro lado los trayectos realizados (salida entrada de bici)\n",
    "\n",
    "La nformación viene dividida en archivos por cada mes \n",
    "se creo una función que lee cada tipo de archivo json y lo trasnforma en un dataframe\n",
    "y otra función que recorre un directorio para cargar y juntar cada archivo en un solo dataset\n",
    "\n",
    "'''"
   ]
  },
  {
   "cell_type": "code",
   "execution_count": 4,
   "id": "0a11970d",
   "metadata": {},
   "outputs": [],
   "source": [
    "# tabla con información de las estaciones\n",
    "\n",
    "estaciones = pd.read_csv(fr'../data_raw/bases/bases_bicimad.csv', sep=';' )\n",
    "\n"
   ]
  },
  {
   "cell_type": "code",
   "execution_count": 5,
   "id": "d75996f9",
   "metadata": {},
   "outputs": [],
   "source": [
    "# dataset con la informacion de la situacion por horas de cada estacion\n",
    "\n",
    "dir = r'C:\\Users\\aaron\\AAROON\\IRONHACK_BOOTCAMP_DATA\\8_PROYECTO_FINAL\\biciMAD_analysis\\data_raw\\conjunto_estaticos'\n",
    "\n",
    "estatic =  agrupa_data(dir, conjunto_estaticos)"
   ]
  },
  {
   "cell_type": "code",
   "execution_count": 6,
   "id": "c7c08fcd",
   "metadata": {},
   "outputs": [],
   "source": [
    "# dataset con la informacion de la situacion por horas de los trayectos\n",
    "\n",
    "dir = r'C:\\Users\\aaron\\AAROON\\IRONHACK_BOOTCAMP_DATA\\8_PROYECTO_FINAL\\biciMAD_analysis\\data_raw\\conjunto_itinerarios'\n",
    "\n",
    "itiner =  agrupa_data(dir, conjunto_itinerarios)"
   ]
  },
  {
   "cell_type": "markdown",
   "id": "68cd6bab",
   "metadata": {},
   "source": [
    "## EXPLORACIÓN INFO"
   ]
  },
  {
   "cell_type": "code",
   "execution_count": 8,
   "id": "24550caa",
   "metadata": {},
   "outputs": [
    {
     "name": "stdout",
     "output_type": "stream",
     "text": [
      "<class 'pandas.core.frame.DataFrame'>\n",
      "RangeIndex: 269 entries, 0 to 268\n",
      "Data columns (total 13 columns):\n",
      " #   Column            Non-Null Count  Dtype  \n",
      "---  ------            --------------  -----  \n",
      " 0   Número            269 non-null    object \n",
      " 1   Gis_X             269 non-null    object \n",
      " 2   Gis_Y             269 non-null    object \n",
      " 3   Fecha de Alta     269 non-null    int64  \n",
      " 4   Distrito          269 non-null    object \n",
      " 5   Barrio            269 non-null    object \n",
      " 6   Calle             269 non-null    object \n",
      " 7   Nº Finca          269 non-null    object \n",
      " 8   Tipo de Reserva   269 non-null    object \n",
      " 9   Número de Plazas  269 non-null    int64  \n",
      " 10  Longitud          269 non-null    float64\n",
      " 11  Latitud           269 non-null    float64\n",
      " 12  Direccion         269 non-null    object \n",
      "dtypes: float64(2), int64(2), object(9)\n",
      "memory usage: 27.4+ KB\n"
     ]
    }
   ],
   "source": [
    "estaciones.info()"
   ]
  },
  {
   "cell_type": "code",
   "execution_count": 10,
   "id": "224d1e70",
   "metadata": {},
   "outputs": [
    {
     "data": {
      "text/html": [
       "<div>\n",
       "<style scoped>\n",
       "    .dataframe tbody tr th:only-of-type {\n",
       "        vertical-align: middle;\n",
       "    }\n",
       "\n",
       "    .dataframe tbody tr th {\n",
       "        vertical-align: top;\n",
       "    }\n",
       "\n",
       "    .dataframe thead th {\n",
       "        text-align: right;\n",
       "    }\n",
       "</style>\n",
       "<table border=\"1\" class=\"dataframe\">\n",
       "  <thead>\n",
       "    <tr style=\"text-align: right;\">\n",
       "      <th></th>\n",
       "      <th>_id</th>\n",
       "      <th>user_day_code</th>\n",
       "      <th>idplug_base</th>\n",
       "      <th>user_type</th>\n",
       "      <th>idunplug_base</th>\n",
       "      <th>travel_time</th>\n",
       "      <th>idunplug_station</th>\n",
       "      <th>ageRange</th>\n",
       "      <th>idplug_station</th>\n",
       "      <th>unplug_hourTime</th>\n",
       "      <th>zip_code</th>\n",
       "    </tr>\n",
       "  </thead>\n",
       "  <tbody>\n",
       "    <tr>\n",
       "      <th>0</th>\n",
       "      <td>5ee862cecc8c1e839b419387</td>\n",
       "      <td>509e6a72b7673f533912bf647d20df19305b848fbc1b89...</td>\n",
       "      <td>5</td>\n",
       "      <td>1</td>\n",
       "      <td>20</td>\n",
       "      <td>154</td>\n",
       "      <td>44</td>\n",
       "      <td>5</td>\n",
       "      <td>40</td>\n",
       "      <td>2019-07-01T00:00:00Z</td>\n",
       "      <td>28007</td>\n",
       "    </tr>\n",
       "    <tr>\n",
       "      <th>1</th>\n",
       "      <td>5ee862cecc8c1e839b41938c</td>\n",
       "      <td>90069a1194c3eb9e6faecaaf4eefb7209e890c0df5aeac...</td>\n",
       "      <td>8</td>\n",
       "      <td>1</td>\n",
       "      <td>17</td>\n",
       "      <td>184</td>\n",
       "      <td>57</td>\n",
       "      <td>4</td>\n",
       "      <td>129</td>\n",
       "      <td>2019-07-01T00:00:00Z</td>\n",
       "      <td>28045</td>\n",
       "    </tr>\n",
       "    <tr>\n",
       "      <th>2</th>\n",
       "      <td>5ee862cecc8c1e839b419394</td>\n",
       "      <td>b0ecaab6a35b7ea44d118f851f7fad5c2237e7dd51b337...</td>\n",
       "      <td>15</td>\n",
       "      <td>1</td>\n",
       "      <td>16</td>\n",
       "      <td>282</td>\n",
       "      <td>53</td>\n",
       "      <td>4</td>\n",
       "      <td>43</td>\n",
       "      <td>2019-07-01T00:00:00Z</td>\n",
       "      <td></td>\n",
       "    </tr>\n",
       "    <tr>\n",
       "      <th>3</th>\n",
       "      <td>5ee862cecc8c1e839b41939e</td>\n",
       "      <td>5e1b8a8c4603ee8ac4f06aba12ff51e2c5dd105b6e5193...</td>\n",
       "      <td>18</td>\n",
       "      <td>1</td>\n",
       "      <td>18</td>\n",
       "      <td>388</td>\n",
       "      <td>56</td>\n",
       "      <td>0</td>\n",
       "      <td>13</td>\n",
       "      <td>2019-07-01T00:00:00Z</td>\n",
       "      <td></td>\n",
       "    </tr>\n",
       "    <tr>\n",
       "      <th>4</th>\n",
       "      <td>5ee862cecc8c1e839b4193a5</td>\n",
       "      <td>80974c4043db61721399c43f296ce1db4436c7f107f8fc...</td>\n",
       "      <td>1</td>\n",
       "      <td>1</td>\n",
       "      <td>20</td>\n",
       "      <td>254</td>\n",
       "      <td>105</td>\n",
       "      <td>0</td>\n",
       "      <td>75</td>\n",
       "      <td>2019-07-01T00:00:00Z</td>\n",
       "      <td></td>\n",
       "    </tr>\n",
       "  </tbody>\n",
       "</table>\n",
       "</div>"
      ],
      "text/plain": [
       "                        _id  \\\n",
       "0  5ee862cecc8c1e839b419387   \n",
       "1  5ee862cecc8c1e839b41938c   \n",
       "2  5ee862cecc8c1e839b419394   \n",
       "3  5ee862cecc8c1e839b41939e   \n",
       "4  5ee862cecc8c1e839b4193a5   \n",
       "\n",
       "                                       user_day_code  idplug_base  user_type  \\\n",
       "0  509e6a72b7673f533912bf647d20df19305b848fbc1b89...            5          1   \n",
       "1  90069a1194c3eb9e6faecaaf4eefb7209e890c0df5aeac...            8          1   \n",
       "2  b0ecaab6a35b7ea44d118f851f7fad5c2237e7dd51b337...           15          1   \n",
       "3  5e1b8a8c4603ee8ac4f06aba12ff51e2c5dd105b6e5193...           18          1   \n",
       "4  80974c4043db61721399c43f296ce1db4436c7f107f8fc...            1          1   \n",
       "\n",
       "   idunplug_base  travel_time  idunplug_station  ageRange  idplug_station  \\\n",
       "0             20          154                44         5              40   \n",
       "1             17          184                57         4             129   \n",
       "2             16          282                53         4              43   \n",
       "3             18          388                56         0              13   \n",
       "4             20          254               105         0              75   \n",
       "\n",
       "        unplug_hourTime zip_code  \n",
       "0  2019-07-01T00:00:00Z    28007  \n",
       "1  2019-07-01T00:00:00Z    28045  \n",
       "2  2019-07-01T00:00:00Z           \n",
       "3  2019-07-01T00:00:00Z           \n",
       "4  2019-07-01T00:00:00Z           "
      ]
     },
     "execution_count": 10,
     "metadata": {},
     "output_type": "execute_result"
    }
   ],
   "source": [
    "itiner.head()"
   ]
  },
  {
   "cell_type": "code",
   "execution_count": 11,
   "id": "f92d5a75",
   "metadata": {},
   "outputs": [
    {
     "name": "stdout",
     "output_type": "stream",
     "text": [
      "<class 'pandas.core.frame.DataFrame'>\n",
      "Int64Index: 7159891 entries, 0 to 413369\n",
      "Data columns (total 11 columns):\n",
      " #   Column            Dtype \n",
      "---  ------            ----- \n",
      " 0   _id               object\n",
      " 1   user_day_code     object\n",
      " 2   idplug_base       int64 \n",
      " 3   user_type         int64 \n",
      " 4   idunplug_base     int64 \n",
      " 5   travel_time       int64 \n",
      " 6   idunplug_station  int64 \n",
      " 7   ageRange          int64 \n",
      " 8   idplug_station    int64 \n",
      " 9   unplug_hourTime   object\n",
      " 10  zip_code          object\n",
      "dtypes: int64(7), object(4)\n",
      "memory usage: 655.5+ MB\n"
     ]
    }
   ],
   "source": [
    "itiner.info()"
   ]
  },
  {
   "cell_type": "code",
   "execution_count": 12,
   "id": "b103da0d",
   "metadata": {},
   "outputs": [
    {
     "data": {
      "text/html": [
       "<div>\n",
       "<style scoped>\n",
       "    .dataframe tbody tr th:only-of-type {\n",
       "        vertical-align: middle;\n",
       "    }\n",
       "\n",
       "    .dataframe tbody tr th {\n",
       "        vertical-align: top;\n",
       "    }\n",
       "\n",
       "    .dataframe thead th {\n",
       "        text-align: right;\n",
       "    }\n",
       "</style>\n",
       "<table border=\"1\" class=\"dataframe\">\n",
       "  <thead>\n",
       "    <tr style=\"text-align: right;\">\n",
       "      <th></th>\n",
       "      <th>_id</th>\n",
       "      <th>activate</th>\n",
       "      <th>name</th>\n",
       "      <th>reservations_count</th>\n",
       "      <th>light</th>\n",
       "      <th>total_bases</th>\n",
       "      <th>free_bases</th>\n",
       "      <th>number</th>\n",
       "      <th>longitude</th>\n",
       "      <th>no_available</th>\n",
       "      <th>address</th>\n",
       "      <th>latitude</th>\n",
       "      <th>dock_bikes</th>\n",
       "      <th>id</th>\n",
       "    </tr>\n",
       "  </thead>\n",
       "  <tbody>\n",
       "    <tr>\n",
       "      <th>0</th>\n",
       "      <td>2019-07-01T00:29:26.018083</td>\n",
       "      <td>1</td>\n",
       "      <td>Puerta del Sol A</td>\n",
       "      <td>0</td>\n",
       "      <td>2</td>\n",
       "      <td>24</td>\n",
       "      <td>15</td>\n",
       "      <td>1a</td>\n",
       "      <td>-3.7024255</td>\n",
       "      <td>0</td>\n",
       "      <td>Puerta del Sol nº 1</td>\n",
       "      <td>40.4168961</td>\n",
       "      <td>8</td>\n",
       "      <td>1</td>\n",
       "    </tr>\n",
       "    <tr>\n",
       "      <th>1</th>\n",
       "      <td>2019-07-01T00:29:26.018083</td>\n",
       "      <td>1</td>\n",
       "      <td>Puerta del Sol B</td>\n",
       "      <td>0</td>\n",
       "      <td>2</td>\n",
       "      <td>24</td>\n",
       "      <td>14</td>\n",
       "      <td>1b</td>\n",
       "      <td>-3.7024207</td>\n",
       "      <td>0</td>\n",
       "      <td>Puerta del Sol nº 1</td>\n",
       "      <td>40.4170009</td>\n",
       "      <td>9</td>\n",
       "      <td>2</td>\n",
       "    </tr>\n",
       "    <tr>\n",
       "      <th>2</th>\n",
       "      <td>2019-07-01T00:29:26.018083</td>\n",
       "      <td>1</td>\n",
       "      <td>Miguel Moya</td>\n",
       "      <td>0</td>\n",
       "      <td>2</td>\n",
       "      <td>24</td>\n",
       "      <td>12</td>\n",
       "      <td>2</td>\n",
       "      <td>-3.7058415</td>\n",
       "      <td>0</td>\n",
       "      <td>Calle Miguel Moya nº 1</td>\n",
       "      <td>40.4205886</td>\n",
       "      <td>10</td>\n",
       "      <td>3</td>\n",
       "    </tr>\n",
       "    <tr>\n",
       "      <th>3</th>\n",
       "      <td>2019-07-01T00:29:26.018083</td>\n",
       "      <td>1</td>\n",
       "      <td>Plaza Conde Suchil</td>\n",
       "      <td>0</td>\n",
       "      <td>1</td>\n",
       "      <td>18</td>\n",
       "      <td>4</td>\n",
       "      <td>3</td>\n",
       "      <td>-3.7069171</td>\n",
       "      <td>0</td>\n",
       "      <td>Plaza del Conde Suchil nº 2-4</td>\n",
       "      <td>40.4302937</td>\n",
       "      <td>11</td>\n",
       "      <td>4</td>\n",
       "    </tr>\n",
       "    <tr>\n",
       "      <th>4</th>\n",
       "      <td>2019-07-01T00:29:26.018083</td>\n",
       "      <td>1</td>\n",
       "      <td>Malasaña</td>\n",
       "      <td>0</td>\n",
       "      <td>0</td>\n",
       "      <td>24</td>\n",
       "      <td>17</td>\n",
       "      <td>4</td>\n",
       "      <td>-3.7025875</td>\n",
       "      <td>0</td>\n",
       "      <td>Calle Manuela Malasaña nº 5</td>\n",
       "      <td>40.4285524</td>\n",
       "      <td>3</td>\n",
       "      <td>5</td>\n",
       "    </tr>\n",
       "  </tbody>\n",
       "</table>\n",
       "</div>"
      ],
      "text/plain": [
       "                          _id  activate                name  \\\n",
       "0  2019-07-01T00:29:26.018083         1    Puerta del Sol A   \n",
       "1  2019-07-01T00:29:26.018083         1    Puerta del Sol B   \n",
       "2  2019-07-01T00:29:26.018083         1         Miguel Moya   \n",
       "3  2019-07-01T00:29:26.018083         1  Plaza Conde Suchil   \n",
       "4  2019-07-01T00:29:26.018083         1            Malasaña   \n",
       "\n",
       "   reservations_count  light  total_bases  free_bases number   longitude  \\\n",
       "0                   0      2           24          15     1a  -3.7024255   \n",
       "1                   0      2           24          14     1b  -3.7024207   \n",
       "2                   0      2           24          12      2  -3.7058415   \n",
       "3                   0      1           18           4      3  -3.7069171   \n",
       "4                   0      0           24          17      4  -3.7025875   \n",
       "\n",
       "   no_available                        address    latitude  dock_bikes  id  \n",
       "0             0            Puerta del Sol nº 1  40.4168961           8   1  \n",
       "1             0            Puerta del Sol nº 1  40.4170009           9   2  \n",
       "2             0         Calle Miguel Moya nº 1  40.4205886          10   3  \n",
       "3             0  Plaza del Conde Suchil nº 2-4  40.4302937          11   4  \n",
       "4             0    Calle Manuela Malasaña nº 5  40.4285524           3   5  "
      ]
     },
     "execution_count": 12,
     "metadata": {},
     "output_type": "execute_result"
    }
   ],
   "source": [
    "estatic.head()"
   ]
  },
  {
   "cell_type": "code",
   "execution_count": 13,
   "id": "7093c758",
   "metadata": {},
   "outputs": [
    {
     "name": "stdout",
     "output_type": "stream",
     "text": [
      "<class 'pandas.core.frame.DataFrame'>\n",
      "Int64Index: 3923271 entries, 0 to 187967\n",
      "Data columns (total 14 columns):\n",
      " #   Column              Dtype \n",
      "---  ------              ----- \n",
      " 0   _id                 object\n",
      " 1   activate            int64 \n",
      " 2   name                object\n",
      " 3   reservations_count  int64 \n",
      " 4   light               int64 \n",
      " 5   total_bases         int64 \n",
      " 6   free_bases          int64 \n",
      " 7   number              object\n",
      " 8   longitude           object\n",
      " 9   no_available        int64 \n",
      " 10  address             object\n",
      " 11  latitude            object\n",
      " 12  dock_bikes          int64 \n",
      " 13  id                  int64 \n",
      "dtypes: int64(8), object(6)\n",
      "memory usage: 449.0+ MB\n"
     ]
    }
   ],
   "source": [
    "estatic.info()"
   ]
  },
  {
   "cell_type": "code",
   "execution_count": 14,
   "id": "bd86229c",
   "metadata": {},
   "outputs": [
    {
     "data": {
      "text/plain": [
       "False"
      ]
     },
     "execution_count": 14,
     "metadata": {},
     "output_type": "execute_result"
    }
   ],
   "source": [
    "estatic.isnull().values.any()"
   ]
  },
  {
   "cell_type": "code",
   "execution_count": 15,
   "id": "1dafc1f5",
   "metadata": {},
   "outputs": [
    {
     "data": {
      "text/plain": [
       "False"
      ]
     },
     "execution_count": 15,
     "metadata": {},
     "output_type": "execute_result"
    }
   ],
   "source": [
    "itiner.isnull().values.any()"
   ]
  },
  {
   "cell_type": "code",
   "execution_count": null,
   "id": "9c20af62",
   "metadata": {},
   "outputs": [],
   "source": [
    "'''\n",
    "En un primer vistazo comprobamos que no hay nulos y vemos que en la tabla static hay cosas como texto que deberían ser números\n",
    "como la Longitud y latitud\n",
    "\n",
    "'''"
   ]
  },
  {
   "cell_type": "markdown",
   "id": "cdb58fb1",
   "metadata": {},
   "source": [
    "como primer objetivo vamos a construir una tabla que alamcene la información de las estaciones"
   ]
  },
  {
   "cell_type": "code",
   "execution_count": 7,
   "id": "7c813ac2",
   "metadata": {},
   "outputs": [
    {
     "data": {
      "text/html": [
       "<div>\n",
       "<style scoped>\n",
       "    .dataframe tbody tr th:only-of-type {\n",
       "        vertical-align: middle;\n",
       "    }\n",
       "\n",
       "    .dataframe tbody tr th {\n",
       "        vertical-align: top;\n",
       "    }\n",
       "\n",
       "    .dataframe thead th {\n",
       "        text-align: right;\n",
       "    }\n",
       "</style>\n",
       "<table border=\"1\" class=\"dataframe\">\n",
       "  <thead>\n",
       "    <tr style=\"text-align: right;\">\n",
       "      <th></th>\n",
       "      <th>Número</th>\n",
       "      <th>Gis_X</th>\n",
       "      <th>Gis_Y</th>\n",
       "      <th>Fecha de Alta</th>\n",
       "      <th>Distrito</th>\n",
       "      <th>Barrio</th>\n",
       "      <th>Calle</th>\n",
       "      <th>Nº Finca</th>\n",
       "      <th>Tipo de Reserva</th>\n",
       "      <th>Número de Plazas</th>\n",
       "      <th>Longitud</th>\n",
       "      <th>Latitud</th>\n",
       "      <th>Direccion</th>\n",
       "    </tr>\n",
       "  </thead>\n",
       "  <tbody>\n",
       "    <tr>\n",
       "      <th>0</th>\n",
       "      <td>001 a</td>\n",
       "      <td>440443,61</td>\n",
       "      <td>4474290,65</td>\n",
       "      <td>43803</td>\n",
       "      <td>01  CENTRO</td>\n",
       "      <td>01-06 SOL</td>\n",
       "      <td>ALCALA, CALLE, DE</td>\n",
       "      <td>2</td>\n",
       "      <td>BiciMAD</td>\n",
       "      <td>30</td>\n",
       "      <td>-3.701998</td>\n",
       "      <td>40.417111</td>\n",
       "      <td>ALCALA, CALLE, DE, 2</td>\n",
       "    </tr>\n",
       "    <tr>\n",
       "      <th>1</th>\n",
       "      <td>001 b</td>\n",
       "      <td>440480,56</td>\n",
       "      <td>4474301,74</td>\n",
       "      <td>43867</td>\n",
       "      <td>01  CENTRO</td>\n",
       "      <td>01-06 SOL</td>\n",
       "      <td>ALCALA, CALLE, DE</td>\n",
       "      <td>6</td>\n",
       "      <td>BiciMAD</td>\n",
       "      <td>30</td>\n",
       "      <td>-3.701564</td>\n",
       "      <td>40.417213</td>\n",
       "      <td>ALCALA, CALLE, DE, 6</td>\n",
       "    </tr>\n",
       "    <tr>\n",
       "      <th>2</th>\n",
       "      <td>2</td>\n",
       "      <td>440134,83</td>\n",
       "      <td>4474678,23</td>\n",
       "      <td>41813</td>\n",
       "      <td>01  CENTRO</td>\n",
       "      <td>01-05 UNIVERSIDAD</td>\n",
       "      <td>MIGUEL MOYA, CALLE, DE</td>\n",
       "      <td>1</td>\n",
       "      <td>BiciMAD</td>\n",
       "      <td>24</td>\n",
       "      <td>-3.705674</td>\n",
       "      <td>40.420580</td>\n",
       "      <td>MIGUEL MOYA, CALLE, DE, 1</td>\n",
       "    </tr>\n",
       "    <tr>\n",
       "      <th>3</th>\n",
       "      <td>3</td>\n",
       "      <td>440012,98</td>\n",
       "      <td>4475760,68</td>\n",
       "      <td>41813</td>\n",
       "      <td>07  CHAMBERÍ</td>\n",
       "      <td>07-02 ARAPILES</td>\n",
       "      <td>CONDE DEL VALLE DE SUCHIL, PLAZA, DEL</td>\n",
       "      <td>2</td>\n",
       "      <td>BiciMAD</td>\n",
       "      <td>18</td>\n",
       "      <td>-3.707212</td>\n",
       "      <td>40.430322</td>\n",
       "      <td>CONDE DEL VALLE DE SUCHIL, PLAZA, DEL, 2</td>\n",
       "    </tr>\n",
       "    <tr>\n",
       "      <th>4</th>\n",
       "      <td>4</td>\n",
       "      <td>440396,4</td>\n",
       "      <td>4475565,36</td>\n",
       "      <td>41813</td>\n",
       "      <td>01  CENTRO</td>\n",
       "      <td>01-05 UNIVERSIDAD</td>\n",
       "      <td>MANUELA MALASAÑA, CALLE, DE</td>\n",
       "      <td>3</td>\n",
       "      <td>BiciMAD</td>\n",
       "      <td>24</td>\n",
       "      <td>-3.702674</td>\n",
       "      <td>40.428590</td>\n",
       "      <td>MANUELA MALASAÑA, CALLE, DE, 3</td>\n",
       "    </tr>\n",
       "  </tbody>\n",
       "</table>\n",
       "</div>"
      ],
      "text/plain": [
       "  Número      Gis_X       Gis_Y  Fecha de Alta      Distrito  \\\n",
       "0  001 a  440443,61  4474290,65          43803    01  CENTRO   \n",
       "1  001 b  440480,56  4474301,74          43867    01  CENTRO   \n",
       "2      2  440134,83  4474678,23          41813    01  CENTRO   \n",
       "3      3  440012,98  4475760,68          41813  07  CHAMBERÍ   \n",
       "4      4   440396,4  4475565,36          41813    01  CENTRO   \n",
       "\n",
       "              Barrio                                  Calle Nº Finca  \\\n",
       "0          01-06 SOL                      ALCALA, CALLE, DE        2   \n",
       "1          01-06 SOL                      ALCALA, CALLE, DE        6   \n",
       "2  01-05 UNIVERSIDAD                 MIGUEL MOYA, CALLE, DE        1   \n",
       "3     07-02 ARAPILES  CONDE DEL VALLE DE SUCHIL, PLAZA, DEL        2   \n",
       "4  01-05 UNIVERSIDAD            MANUELA MALASAÑA, CALLE, DE        3   \n",
       "\n",
       "  Tipo de Reserva  Número de Plazas  Longitud    Latitud  \\\n",
       "0         BiciMAD                30 -3.701998  40.417111   \n",
       "1         BiciMAD                30 -3.701564  40.417213   \n",
       "2         BiciMAD                24 -3.705674  40.420580   \n",
       "3         BiciMAD                18 -3.707212  40.430322   \n",
       "4         BiciMAD                24 -3.702674  40.428590   \n",
       "\n",
       "                                  Direccion  \n",
       "0                      ALCALA, CALLE, DE, 2  \n",
       "1                      ALCALA, CALLE, DE, 6  \n",
       "2                 MIGUEL MOYA, CALLE, DE, 1  \n",
       "3  CONDE DEL VALLE DE SUCHIL, PLAZA, DEL, 2  \n",
       "4            MANUELA MALASAÑA, CALLE, DE, 3  "
      ]
     },
     "execution_count": 7,
     "metadata": {},
     "output_type": "execute_result"
    }
   ],
   "source": [
    "estaciones.head()"
   ]
  },
  {
   "cell_type": "code",
   "execution_count": 25,
   "id": "97cdc844",
   "metadata": {},
   "outputs": [],
   "source": [
    "estaciones['Número']= estaciones['Número'].str.replace('001', '1')\n",
    "estaciones['Número']= estaciones['Número'].str.replace('025', '25')\n",
    "estaciones['Número']= estaciones['Número'].str.replace('080', '80')\n",
    "\n",
    "estaciones['Número']= estaciones['Número'].str.replace(' ', '')\n"
   ]
  },
  {
   "cell_type": "code",
   "execution_count": 26,
   "id": "00c60f7f",
   "metadata": {},
   "outputs": [
    {
     "data": {
      "text/html": [
       "<div>\n",
       "<style scoped>\n",
       "    .dataframe tbody tr th:only-of-type {\n",
       "        vertical-align: middle;\n",
       "    }\n",
       "\n",
       "    .dataframe tbody tr th {\n",
       "        vertical-align: top;\n",
       "    }\n",
       "\n",
       "    .dataframe thead th {\n",
       "        text-align: right;\n",
       "    }\n",
       "</style>\n",
       "<table border=\"1\" class=\"dataframe\">\n",
       "  <thead>\n",
       "    <tr style=\"text-align: right;\">\n",
       "      <th></th>\n",
       "      <th>id</th>\n",
       "      <th>number</th>\n",
       "    </tr>\n",
       "  </thead>\n",
       "  <tbody>\n",
       "    <tr>\n",
       "      <th>0</th>\n",
       "      <td>1</td>\n",
       "      <td>1a</td>\n",
       "    </tr>\n",
       "    <tr>\n",
       "      <th>1</th>\n",
       "      <td>2</td>\n",
       "      <td>1b</td>\n",
       "    </tr>\n",
       "    <tr>\n",
       "      <th>2</th>\n",
       "      <td>3</td>\n",
       "      <td>2</td>\n",
       "    </tr>\n",
       "    <tr>\n",
       "      <th>3</th>\n",
       "      <td>4</td>\n",
       "      <td>3</td>\n",
       "    </tr>\n",
       "    <tr>\n",
       "      <th>4</th>\n",
       "      <td>5</td>\n",
       "      <td>4</td>\n",
       "    </tr>\n",
       "  </tbody>\n",
       "</table>\n",
       "</div>"
      ],
      "text/plain": [
       "   id number\n",
       "0   1     1a\n",
       "1   2     1b\n",
       "2   3      2\n",
       "3   4      3\n",
       "4   5      4"
      ]
     },
     "execution_count": 26,
     "metadata": {},
     "output_type": "execute_result"
    }
   ],
   "source": [
    "e = estatic[['id', 'number']].groupby(['id', 'number']).count().reset_index()\n",
    "e.head()"
   ]
  },
  {
   "cell_type": "code",
   "execution_count": 27,
   "id": "e7198b74",
   "metadata": {},
   "outputs": [
    {
     "data": {
      "text/html": [
       "<div>\n",
       "<style scoped>\n",
       "    .dataframe tbody tr th:only-of-type {\n",
       "        vertical-align: middle;\n",
       "    }\n",
       "\n",
       "    .dataframe tbody tr th {\n",
       "        vertical-align: top;\n",
       "    }\n",
       "\n",
       "    .dataframe thead th {\n",
       "        text-align: right;\n",
       "    }\n",
       "</style>\n",
       "<table border=\"1\" class=\"dataframe\">\n",
       "  <thead>\n",
       "    <tr style=\"text-align: right;\">\n",
       "      <th></th>\n",
       "      <th>id</th>\n",
       "      <th>Direccion</th>\n",
       "    </tr>\n",
       "  </thead>\n",
       "  <tbody>\n",
       "    <tr>\n",
       "      <th>020ampliacion</th>\n",
       "      <td>NaN</td>\n",
       "      <td>ALCALA, CALLE, DE, 49</td>\n",
       "    </tr>\n",
       "    <tr>\n",
       "      <th>090ampliacion</th>\n",
       "      <td>NaN</td>\n",
       "      <td>GOYA, CALLE, DE, 20</td>\n",
       "    </tr>\n",
       "    <tr>\n",
       "      <th>10</th>\n",
       "      <td>11.0</td>\n",
       "      <td>MARQUES DE LA ENSENADA, CALLE, DEL, 16</td>\n",
       "    </tr>\n",
       "    <tr>\n",
       "      <th>100</th>\n",
       "      <td>105.0</td>\n",
       "      <td>GOYA, CALLE, DE, 99</td>\n",
       "    </tr>\n",
       "    <tr>\n",
       "      <th>101</th>\n",
       "      <td>106.0</td>\n",
       "      <td>JORGE JUAN, CALLE, DE, 131</td>\n",
       "    </tr>\n",
       "  </tbody>\n",
       "</table>\n",
       "</div>"
      ],
      "text/plain": [
       "                  id                               Direccion\n",
       "020ampliacion    NaN                   ALCALA, CALLE, DE, 49\n",
       "090ampliacion    NaN                     GOYA, CALLE, DE, 20\n",
       "10              11.0  MARQUES DE LA ENSENADA, CALLE, DEL, 16\n",
       "100            105.0                     GOYA, CALLE, DE, 99\n",
       "101            106.0              JORGE JUAN, CALLE, DE, 131"
      ]
     },
     "execution_count": 27,
     "metadata": {},
     "output_type": "execute_result"
    }
   ],
   "source": [
    "e.set_index('number').join(estaciones[['Número', 'Direccion']].set_index('Número'), how = 'outer').head()"
   ]
  },
  {
   "cell_type": "code",
   "execution_count": null,
   "id": "6a125115",
   "metadata": {},
   "outputs": [],
   "source": [
    "'''\n",
    "la tabla estaciones no nos sirve como tabla. \n",
    "Porque no tiene los id que se utilizan en las tablas itner y estatic, además flatan algunas estaciones \n",
    "\n",
    "'''"
   ]
  },
  {
   "cell_type": "markdown",
   "id": "e392b4a5",
   "metadata": {},
   "source": [
    "se va a generar una tabla estaciones a partir de los datos de la tabla esttatic"
   ]
  },
  {
   "cell_type": "code",
   "execution_count": 21,
   "id": "53076e84",
   "metadata": {},
   "outputs": [
    {
     "data": {
      "text/html": [
       "<div>\n",
       "<style scoped>\n",
       "    .dataframe tbody tr th:only-of-type {\n",
       "        vertical-align: middle;\n",
       "    }\n",
       "\n",
       "    .dataframe tbody tr th {\n",
       "        vertical-align: top;\n",
       "    }\n",
       "\n",
       "    .dataframe thead th {\n",
       "        text-align: right;\n",
       "    }\n",
       "</style>\n",
       "<table border=\"1\" class=\"dataframe\">\n",
       "  <thead>\n",
       "    <tr style=\"text-align: right;\">\n",
       "      <th></th>\n",
       "      <th>id</th>\n",
       "      <th>number</th>\n",
       "      <th>name</th>\n",
       "      <th>longitude</th>\n",
       "      <th>latitude</th>\n",
       "      <th>address</th>\n",
       "      <th>total_bases</th>\n",
       "    </tr>\n",
       "  </thead>\n",
       "  <tbody>\n",
       "    <tr>\n",
       "      <th>0</th>\n",
       "      <td>1</td>\n",
       "      <td>1a</td>\n",
       "      <td>Madrid Sol 1A</td>\n",
       "      <td>-3.7024255</td>\n",
       "      <td>40.4168961</td>\n",
       "      <td>Puerta del Sol nº 1</td>\n",
       "      <td>24</td>\n",
       "    </tr>\n",
       "    <tr>\n",
       "      <th>1</th>\n",
       "      <td>1</td>\n",
       "      <td>1a</td>\n",
       "      <td>Puerta del Sol A</td>\n",
       "      <td>-3.70178074</td>\n",
       "      <td>40.41715281</td>\n",
       "      <td>Puerta del Sol nº 1</td>\n",
       "      <td>30</td>\n",
       "    </tr>\n",
       "    <tr>\n",
       "      <th>2</th>\n",
       "      <td>1</td>\n",
       "      <td>1a</td>\n",
       "      <td>Puerta del Sol A</td>\n",
       "      <td>-3.7018341</td>\n",
       "      <td>40.4172137</td>\n",
       "      <td>Puerta del Sol nº 1</td>\n",
       "      <td>30</td>\n",
       "    </tr>\n",
       "    <tr>\n",
       "      <th>3</th>\n",
       "      <td>1</td>\n",
       "      <td>1a</td>\n",
       "      <td>Puerta del Sol A</td>\n",
       "      <td>-3.7024255</td>\n",
       "      <td>40.4168961</td>\n",
       "      <td>Puerta del Sol nº 1</td>\n",
       "      <td>24</td>\n",
       "    </tr>\n",
       "    <tr>\n",
       "      <th>4</th>\n",
       "      <td>1</td>\n",
       "      <td>1a</td>\n",
       "      <td>Puerta del Sol A</td>\n",
       "      <td>-3.7024255</td>\n",
       "      <td>40.4168961</td>\n",
       "      <td>Puerta del Sol nº 1</td>\n",
       "      <td>30</td>\n",
       "    </tr>\n",
       "  </tbody>\n",
       "</table>\n",
       "</div>"
      ],
      "text/plain": [
       "   id number              name    longitude     latitude              address  \\\n",
       "0   1     1a     Madrid Sol 1A   -3.7024255   40.4168961  Puerta del Sol nº 1   \n",
       "1   1     1a  Puerta del Sol A  -3.70178074  40.41715281  Puerta del Sol nº 1   \n",
       "2   1     1a  Puerta del Sol A   -3.7018341   40.4172137  Puerta del Sol nº 1   \n",
       "3   1     1a  Puerta del Sol A   -3.7024255   40.4168961  Puerta del Sol nº 1   \n",
       "4   1     1a  Puerta del Sol A   -3.7024255   40.4168961  Puerta del Sol nº 1   \n",
       "\n",
       "   total_bases  \n",
       "0           24  \n",
       "1           30  \n",
       "2           30  \n",
       "3           24  \n",
       "4           30  "
      ]
     },
     "execution_count": 21,
     "metadata": {},
     "output_type": "execute_result"
    }
   ],
   "source": [
    "estaciones1 = estatic[['id','number', 'name', 'longitude', 'latitude', 'address', 'total_bases']].groupby(['id','number', 'name', 'longitude', 'latitude', 'address', 'total_bases']).count().reset_index()\n",
    "estaciones1.head()"
   ]
  },
  {
   "cell_type": "code",
   "execution_count": null,
   "id": "b48264a9",
   "metadata": {},
   "outputs": [],
   "source": [
    "'''\n",
    "no todas las estaciones contiene la información del mismo modo varía la coordenada el texto del nombre... además hay coordenadas\n",
    "que están mal.\n",
    "\n",
    "con cuidado y revisando cada cambio, quitando información incorrecta, y finalmente agrupando la inforamción obtenemos la tabla \n",
    "de estaciones\n",
    "'''"
   ]
  },
  {
   "cell_type": "code",
   "execution_count": 23,
   "id": "6a05649e",
   "metadata": {},
   "outputs": [],
   "source": [
    "estaciones1.drop(estaciones1[estaciones1['latitude'] == '---'].index, inplace = True)"
   ]
  },
  {
   "cell_type": "code",
   "execution_count": 28,
   "id": "0a7e3c46",
   "metadata": {},
   "outputs": [],
   "source": [
    "# quita filas por indice\n",
    "\n",
    "estaciones1.drop([0,1,5, 6, 13, 20, 59, 60, 233], inplace = True)"
   ]
  },
  {
   "cell_type": "code",
   "execution_count": 29,
   "id": "23ce42c5",
   "metadata": {},
   "outputs": [],
   "source": [
    "estaciones1 = estaciones1.groupby(['id','number']).agg({'name': 'max', 'longitude': 'max', 'latitude': 'max', 'address': 'max', 'total_bases': 'max'}).reset_index()"
   ]
  },
  {
   "cell_type": "code",
   "execution_count": 30,
   "id": "690cf225",
   "metadata": {},
   "outputs": [
    {
     "data": {
      "text/html": [
       "<div>\n",
       "<style scoped>\n",
       "    .dataframe tbody tr th:only-of-type {\n",
       "        vertical-align: middle;\n",
       "    }\n",
       "\n",
       "    .dataframe tbody tr th {\n",
       "        vertical-align: top;\n",
       "    }\n",
       "\n",
       "    .dataframe thead th {\n",
       "        text-align: right;\n",
       "    }\n",
       "</style>\n",
       "<table border=\"1\" class=\"dataframe\">\n",
       "  <thead>\n",
       "    <tr style=\"text-align: right;\">\n",
       "      <th></th>\n",
       "      <th>id</th>\n",
       "      <th>number</th>\n",
       "      <th>name</th>\n",
       "      <th>longitude</th>\n",
       "      <th>latitude</th>\n",
       "      <th>address</th>\n",
       "      <th>total_bases</th>\n",
       "    </tr>\n",
       "  </thead>\n",
       "  <tbody>\n",
       "    <tr>\n",
       "      <th>0</th>\n",
       "      <td>1</td>\n",
       "      <td>1a</td>\n",
       "      <td>Puerta del Sol A</td>\n",
       "      <td>-3.7024255</td>\n",
       "      <td>40.4172137</td>\n",
       "      <td>Puerta del Sol nº 1</td>\n",
       "      <td>30</td>\n",
       "    </tr>\n",
       "    <tr>\n",
       "      <th>1</th>\n",
       "      <td>2</td>\n",
       "      <td>1b</td>\n",
       "      <td>Puerta del Sol B</td>\n",
       "      <td>-3.7024207</td>\n",
       "      <td>40.4170009</td>\n",
       "      <td>Puerta del Sol nº 1</td>\n",
       "      <td>30</td>\n",
       "    </tr>\n",
       "    <tr>\n",
       "      <th>2</th>\n",
       "      <td>3</td>\n",
       "      <td>2</td>\n",
       "      <td>Miguel Moya</td>\n",
       "      <td>-3.7058415</td>\n",
       "      <td>40.4205886</td>\n",
       "      <td>Calle Miguel Moya nº 1</td>\n",
       "      <td>24</td>\n",
       "    </tr>\n",
       "    <tr>\n",
       "      <th>3</th>\n",
       "      <td>4</td>\n",
       "      <td>3</td>\n",
       "      <td>Plaza Conde Suchil</td>\n",
       "      <td>-3.7069171</td>\n",
       "      <td>40.4302937</td>\n",
       "      <td>Plaza del Conde del Valle de Súchil nº 3</td>\n",
       "      <td>18</td>\n",
       "    </tr>\n",
       "    <tr>\n",
       "      <th>4</th>\n",
       "      <td>5</td>\n",
       "      <td>4</td>\n",
       "      <td>Malasaña</td>\n",
       "      <td>-3.7025875</td>\n",
       "      <td>40.4285524</td>\n",
       "      <td>Calle Manuela Malasaña nº 5</td>\n",
       "      <td>24</td>\n",
       "    </tr>\n",
       "  </tbody>\n",
       "</table>\n",
       "</div>"
      ],
      "text/plain": [
       "   id number                name   longitude    latitude  \\\n",
       "0   1     1a    Puerta del Sol A  -3.7024255  40.4172137   \n",
       "1   2     1b    Puerta del Sol B  -3.7024207  40.4170009   \n",
       "2   3      2         Miguel Moya  -3.7058415  40.4205886   \n",
       "3   4      3  Plaza Conde Suchil  -3.7069171  40.4302937   \n",
       "4   5      4            Malasaña  -3.7025875  40.4285524   \n",
       "\n",
       "                                    address  total_bases  \n",
       "0                       Puerta del Sol nº 1           30  \n",
       "1                       Puerta del Sol nº 1           30  \n",
       "2                    Calle Miguel Moya nº 1           24  \n",
       "3  Plaza del Conde del Valle de Súchil nº 3           18  \n",
       "4               Calle Manuela Malasaña nº 5           24  "
      ]
     },
     "execution_count": 30,
     "metadata": {},
     "output_type": "execute_result"
    }
   ],
   "source": [
    "estaciones1.head()"
   ]
  },
  {
   "cell_type": "code",
   "execution_count": 31,
   "id": "b1c9f740",
   "metadata": {
    "scrolled": false
   },
   "outputs": [
    {
     "data": {
      "text/plain": [
       "266"
      ]
     },
     "execution_count": 31,
     "metadata": {},
     "output_type": "execute_result"
    }
   ],
   "source": [
    "len(estaciones1)"
   ]
  },
  {
   "cell_type": "code",
   "execution_count": null,
   "id": "d7599169",
   "metadata": {},
   "outputs": [],
   "source": [
    "'''\n",
    "ya tenemos todas las estaciones en un dataFrame, como tiene coordendas vamos a darle una componente geográfica\n",
    "'''"
   ]
  },
  {
   "cell_type": "code",
   "execution_count": 33,
   "id": "99971bae",
   "metadata": {},
   "outputs": [],
   "source": [
    "estaciones = gpd.GeoDataFrame(\n",
    "    estaciones1, geometry=gpd.points_from_xy(estaciones1.longitude, estaciones1.latitude), crs = 'EPSG:4326')\n"
   ]
  },
  {
   "cell_type": "code",
   "execution_count": 36,
   "id": "07993511",
   "metadata": {},
   "outputs": [],
   "source": [
    "estaciones.to_file(r'..\\data\\geo_data\\estaciones.geojson', driver=\"GeoJSON\") "
   ]
  },
  {
   "cell_type": "code",
   "execution_count": 37,
   "id": "093775ea",
   "metadata": {},
   "outputs": [],
   "source": []
  },
  {
   "cell_type": "code",
   "execution_count": null,
   "id": "bd669aa0",
   "metadata": {},
   "outputs": [],
   "source": []
  },
  {
   "cell_type": "code",
   "execution_count": 41,
   "id": "793b9d79",
   "metadata": {},
   "outputs": [],
   "source": [
    "itiner.to_csv(r'..\\data\\geo_data\\itiner.csv', index=False)  "
   ]
  },
  {
   "cell_type": "code",
   "execution_count": null,
   "id": "15c866e2",
   "metadata": {},
   "outputs": [],
   "source": [
    "estatic.to_csv(r'..\\data\\geo_data\\estatic.csv', index=False)  "
   ]
  },
  {
   "cell_type": "code",
   "execution_count": null,
   "id": "00974a58",
   "metadata": {},
   "outputs": [],
   "source": []
  },
  {
   "cell_type": "code",
   "execution_count": null,
   "id": "c67b65f3",
   "metadata": {},
   "outputs": [],
   "source": [
    "estatic.latitude.unique()"
   ]
  },
  {
   "cell_type": "code",
   "execution_count": null,
   "id": "652cb47d",
   "metadata": {},
   "outputs": [],
   "source": [
    "itiner['idunplug_station'].unique()"
   ]
  },
  {
   "cell_type": "code",
   "execution_count": null,
   "id": "4a94b6f6",
   "metadata": {},
   "outputs": [],
   "source": [
    "estaciones.plot()"
   ]
  },
  {
   "cell_type": "code",
   "execution_count": null,
   "id": "b08b10b9",
   "metadata": {},
   "outputs": [],
   "source": [
    "z = estaciones[['id','total_bases']].groupby(['id','total_bases']).count().reset_index().groupby('id').count()\n",
    "\n",
    "z[z['total_bases'] > 1]"
   ]
  },
  {
   "cell_type": "code",
   "execution_count": null,
   "id": "31279b0f",
   "metadata": {},
   "outputs": [],
   "source": [
    "len(estatic['number'].unique())"
   ]
  },
  {
   "cell_type": "code",
   "execution_count": null,
   "id": "7c65bd40",
   "metadata": {},
   "outputs": [],
   "source": [
    "estaciones"
   ]
  },
  {
   "cell_type": "code",
   "execution_count": null,
   "id": "21c84974",
   "metadata": {},
   "outputs": [],
   "source": []
  },
  {
   "cell_type": "code",
   "execution_count": null,
   "id": "5a283cbb",
   "metadata": {},
   "outputs": [],
   "source": [
    "i = itiner[['idunplug_station', 'idplug_station']].groupby(['idunplug_station', 'idplug_station']).count().reset_index()"
   ]
  },
  {
   "cell_type": "code",
   "execution_count": null,
   "id": "538d760f",
   "metadata": {},
   "outputs": [],
   "source": [
    "e.set_index('id').join(i.set_index('idunplug_station'), how = 'outer')"
   ]
  },
  {
   "cell_type": "code",
   "execution_count": null,
   "id": "7d04de0d",
   "metadata": {},
   "outputs": [],
   "source": [
    "x = e.set_index('id').join(i.set_index('idunplug_station'), how = 'outer').isna()\n",
    "x[x.number == True]"
   ]
  },
  {
   "cell_type": "code",
   "execution_count": null,
   "id": "dffba9b2",
   "metadata": {},
   "outputs": [],
   "source": []
  },
  {
   "cell_type": "code",
   "execution_count": null,
   "id": "98ba5b9b",
   "metadata": {},
   "outputs": [],
   "source": []
  },
  {
   "cell_type": "code",
   "execution_count": null,
   "id": "77783f45",
   "metadata": {},
   "outputs": [],
   "source": []
  },
  {
   "cell_type": "code",
   "execution_count": null,
   "id": "882f204f",
   "metadata": {},
   "outputs": [],
   "source": []
  },
  {
   "cell_type": "code",
   "execution_count": null,
   "id": "217e61d2",
   "metadata": {},
   "outputs": [],
   "source": []
  },
  {
   "cell_type": "code",
   "execution_count": null,
   "id": "e05f29fe",
   "metadata": {},
   "outputs": [],
   "source": [
    "estacionex = gpd.read_file(r'..\\data\\geo_data\\estaciones.geojson')"
   ]
  },
  {
   "cell_type": "code",
   "execution_count": 38,
   "id": "f8b1f08a",
   "metadata": {},
   "outputs": [],
   "source": [
    "barrios = gpd.read_file(r'..\\data\\geo_data\\Barrios\\Barrios.shp')"
   ]
  },
  {
   "cell_type": "code",
   "execution_count": 39,
   "id": "8eee4ea0",
   "metadata": {},
   "outputs": [],
   "source": [
    "barrios = barrios.to_crs(4326)"
   ]
  },
  {
   "cell_type": "code",
   "execution_count": null,
   "id": "787abb46",
   "metadata": {},
   "outputs": [],
   "source": [
    "barrios.head()"
   ]
  },
  {
   "cell_type": "code",
   "execution_count": null,
   "id": "b46438d9",
   "metadata": {},
   "outputs": [],
   "source": [
    "barrios.info()"
   ]
  },
  {
   "cell_type": "code",
   "execution_count": null,
   "id": "e68f4c38",
   "metadata": {},
   "outputs": [],
   "source": [
    "barrios[~barrios['CODDIS'].isin(['8','18','17'])]"
   ]
  },
  {
   "cell_type": "code",
   "execution_count": null,
   "id": "caa9d3f3",
   "metadata": {},
   "outputs": [],
   "source": [
    "barrios.plot()"
   ]
  },
  {
   "cell_type": "code",
   "execution_count": 40,
   "id": "04eb2a24",
   "metadata": {},
   "outputs": [
    {
     "data": {
      "image/png": "[encoded data removed]",
      "text/plain": [
       "<Figure size 1440x864 with 1 Axes>"
      ]
     },
     "metadata": {
      "needs_background": "light"
     },
     "output_type": "display_data"
    }
   ],
   "source": [
    "ax = barrios[~barrios['CODDIS'].isin(['8','18','17'])].plot(\n",
    "    color='white', edgecolor='black', figsize = (20,12))\n",
    "\n",
    "estacionex.plot(ax=ax, color='red')\n",
    "\n",
    "plt.show()"
   ]
  }
 ],
 "metadata": {
  "kernelspec": {
   "display_name": "Python 3 (ipykernel)",
   "language": "python",
   "name": "python3"
  },
  "language_info": {
   "codemirror_mode": {
    "name": "ipython",
    "version": 3
   },
   "file_extension": ".py",
   "mimetype": "text/x-python",
   "name": "python",
   "nbconvert_exporter": "python",
   "pygments_lexer": "ipython3",
   "version": "3.9.12"
  }
 },
 "nbformat": 4,
 "nbformat_minor": 5
}
